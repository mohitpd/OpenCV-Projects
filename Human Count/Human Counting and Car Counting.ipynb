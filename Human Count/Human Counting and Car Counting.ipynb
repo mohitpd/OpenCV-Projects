{
 "cells": [
  {
   "cell_type": "markdown",
   "metadata": {},
   "source": [
    "# Human Counting\n",
    "The Project is based on Face Detection and Counting them.\n",
    "It reads Faces present in an Image and Counts them."
   ]
  },
  {
   "cell_type": "markdown",
   "metadata": {},
   "source": [
    "## Advantages:\n",
    "* The syatem can be used for Security Purpose\n",
    "* The Sytem can be used to take Attendance automatically\n",
    "* It Saves time and Effort"
   ]
  },
  {
   "cell_type": "markdown",
   "metadata": {},
   "source": [
    "## Disadvantages:\n",
    "* The System cannot detect faces in poor quality images.\n",
    "* Faces not fully visible or turned at some angle cannot be detected properly."
   ]
  },
  {
   "cell_type": "code",
   "execution_count": 15,
   "metadata": {},
   "outputs": [],
   "source": [
    "from tkinter import *\n",
    "import cv2\n",
    "from tkinter import filedialog \n",
    "\n",
    "# file explorer window \n",
    "def browseFiles(): \n",
    "    filename = filedialog.askopenfilename(initialdir = \"/\", title = \"Select a File\", filetypes = (('all files', '.*'),\n",
    "               ('image files', ('.png', '.jpg')),\n",
    "           ))\n",
    "    \n",
    "    face_cascade = cv2.CascadeClassifier(\"haarcascade_frontalface_alt2.xml\")\n",
    "    img = cv2.imread(filename)\n",
    "    grey = cv2.cvtColor(img, cv2.COLOR_BGR2GRAY)\n",
    "    faces = face_cascade.detectMultiScale(grey,1.1,3)\n",
    "    for (x,y,w,h) in faces:\n",
    "        cv2.rectangle(img, (x,y), (x+w,y+h), (0,255,0), 3)\n",
    "        \n",
    "    \n",
    "    cv2.putText(img, \"Number of Human Detected:  \" + str(faces.shape[0]), (0,img.shape[1]//2), cv2.FONT_HERSHEY_TRIPLEX, 0.6, (0,0,0), 2)\n",
    "    cv2.imshow(\"Counting Faces\", img)\n",
    "    cv2.waitKey(0)\n",
    "    cv2.destroyAllWindows()\n",
    "    \n",
    "    # Show Total Count\n",
    "    notif1.configure(text=\"The Number of Human Present in Image is : \" + str(faces.shape[0])) \n",
    "    \n",
    "#Exit App\n",
    "def exit_app():\n",
    "    window.destroy()\n",
    "\n",
    "# Create the root window \n",
    "window = Tk() \n",
    "\n",
    "# Set window title \n",
    "window.title('File Explorer') \n",
    "\n",
    "# Set window size \n",
    "window.geometry(\"500x300\") \n",
    "\n",
    "# Create a File Explorer label \n",
    "label_file_explorer1 = Label(window, text = \"AIS Solutions PVT LTD\", font=(\"Trebuchet MS\",14,\"bold\",\"underline\"), fg = \"blue\") \n",
    "label_file_explorer = Label(window, text = \"Human Counting System\", font=(\"Trebuchet MS\",14,\"bold\", \"underline\"), fg = \"blue\") \n",
    "\n",
    "\n",
    "button_explore = Button(window, text = \"Browse Image\", command = browseFiles) \n",
    "\n",
    "button_exit = Button(window, text = \"Exit\", command = exit_app) \n",
    "\n",
    "notif1 = Label(window, text=\"\",font=(\"Arial sans MS\",14,\"bold\"))\n",
    "\n",
    "label_file_explorer1.pack()\n",
    "label_file_explorer.pack()\n",
    "\n",
    "button_explore.pack(pady=(40,0))\n",
    "\n",
    "button_exit.pack(pady=(10,0))\n",
    "\n",
    "notif1.pack(pady=(40,0))\n",
    "\n",
    "# Let the window wait for any events \n",
    "window.mainloop() \n"
   ]
  },
  {
   "cell_type": "markdown",
   "metadata": {},
   "source": [
    "## Detect Cars in Video Frame using OpenCV\n",
    "\n",
    "The objective of the program given is to detect object of interest(Car) in video frames and to keep tracking the same object. This is an example of how to detect vehicles in Python."
   ]
  },
  {
   "cell_type": "code",
   "execution_count": 16,
   "metadata": {},
   "outputs": [],
   "source": [
    "# import libraries of python OpenCV \n",
    "import cv2\n",
    " \n",
    "# capture frames from a video\n",
    "cap = cv2.VideoCapture('video.avi')\n",
    " \n",
    "# Trained XML classifiers describes some features of some object we want to detect\n",
    "car_cascade = cv2.CascadeClassifier('cars.xml')\n",
    " \n",
    "# loop runs if capturing has been initialized.\n",
    "while True:\n",
    "    # reads frames from a video\n",
    "    ret, frames = cap.read()\n",
    "     \n",
    "    # convert to gray scale of each frames\n",
    "    gray = cv2.cvtColor(frames, cv2.COLOR_BGR2GRAY)\n",
    "     \n",
    " \n",
    "    # Detects cars of different sizes in the input image\n",
    "    cars = car_cascade.detectMultiScale(gray, 1.1, 1)\n",
    "     \n",
    "    # To draw a rectangle in each car\n",
    "    for (x,y,w,h) in cars:\n",
    "        cv2.rectangle(frames,(x,y),(x+w,y+h),(0,0,255),2)\n",
    " \n",
    "   # Display frames in a window \n",
    "    cv2.imshow('AIS Solutions PVT. LTD Car Detection', frames)\n",
    "     \n",
    "    # Wait for Esc key to stop\n",
    "    if cv2.waitKey(33) == 27:\n",
    "        break\n",
    "\n",
    "# De-allocate any associated memory usage\n",
    "cv2.destroyAllWindows()"
   ]
  },
  {
   "cell_type": "code",
   "execution_count": null,
   "metadata": {},
   "outputs": [],
   "source": []
  }
 ],
 "metadata": {
  "kernelspec": {
   "display_name": "Python 3",
   "language": "python",
   "name": "python3"
  },
  "language_info": {
   "codemirror_mode": {
    "name": "ipython",
    "version": 3
   },
   "file_extension": ".py",
   "mimetype": "text/x-python",
   "name": "python",
   "nbconvert_exporter": "python",
   "pygments_lexer": "ipython3",
   "version": "3.6.7"
  }
 },
 "nbformat": 4,
 "nbformat_minor": 2
}
